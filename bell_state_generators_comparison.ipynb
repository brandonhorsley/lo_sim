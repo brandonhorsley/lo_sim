{
 "cells": [
  {
   "cell_type": "code",
   "execution_count": 1,
   "metadata": {},
   "outputs": [],
   "source": [
    "from photonic_circuit import Circuit\n",
    "from optical_elements import BS, DFT, SwapOut, I\n",
    "from states import PhotonicState, QuditState\n",
    "from circuit_simulators import FullUnitaryEvolution, LayeredEvolution, DistingEvolution"
   ]
  },
  {
   "cell_type": "markdown",
   "metadata": {},
   "source": [
    "## Example: qudit bell state version 3\n",
    "just to show the gist of how to use this simulator, let's look at how to simulate the version 3 qudit bell state generator (we won't start with v1 because the circuit is more complicated)"
   ]
  },
  {
   "cell_type": "code",
   "execution_count": 2,
   "metadata": {},
   "outputs": [
    {
     "data": {
      "text/plain": [
       "(<Figure size 318.528x345.6 with 1 Axes>,\n",
       " <matplotlib.axes._subplots.AxesSubplot at 0x22690add400>)"
      ]
     },
     "execution_count": 2,
     "metadata": {},
     "output_type": "execute_result"
    },
    {
     "data": {
      "image/png": "[encoded data removed]",
      "text/plain": [
       "<Figure size 318.528x345.6 with 1 Axes>"
      ]
     },
     "metadata": {
      "needs_background": "light"
     },
     "output_type": "display_data"
    }
   ],
   "source": [
    "d = 3 # qudit dimension\n",
    "\n",
    "# Circuit class holds information about the input state, \n",
    "# the optics of the circuit and where the detectors go\n",
    "circuit = Circuit() \n",
    "\n",
    "# It is important to define things in the order they appear in the circuit,\n",
    "# so input state first, then optical components, then detectors\n",
    "\n",
    "### define input state ###\n",
    "# here we want single photons in all modes from d to 3*d-1\n",
    "circuit.add_input_photons(range(d,3*d))\n",
    "\n",
    "### define optical circuit ###\n",
    "\n",
    "# We define the circuit by adding 'OpticalElement' classes in layers using the '.add_optical_layer' method\n",
    "# each OpticalElement class (i.e. DFT, BS, Swap...) takes arguements to define it's transformation\n",
    "# and an additional arguement 'offset' which defines the first mode which this element will act on.\n",
    "# If offset is not specified the element will appear directly below the previous element in the layer.\n",
    "\n",
    "circuit.add_optical_layer(DFT(d,offset=d), DFT(d))\n",
    "circuit.add_optical_layer(SwapOut(d,2), SwapOut(d,2)) # SwapOut(d,n) interleaves n bundles of d modes into d bundles of n modes\n",
    "circuit.add_optical_layer(*[BS((d-1)/d)]*2*d) # the syntax: *[element]*n passes in n copies of the element\n",
    "circuit.add_optical_layer(SwapOut(2,d), SwapOut(2,d))\n",
    "circuit.add_optical_layer(SwapOut(d,2,offset=d))\n",
    "circuit.add_optical_layer(I(d), *[BS(0.5)]*d, I(d))\n",
    "\n",
    "### define position of detectors ###\n",
    "circuit.add_detectors(range(d,3*d))\n",
    "\n",
    "### draw the circuit ###\n",
    "circuit.draw(3) "
   ]
  },
  {
   "cell_type": "markdown",
   "metadata": {},
   "source": [
    "## Strong simulation\n",
    "here we show the two methods for simulating the full quantum state, 'evolve' and 'evolve_by_element'"
   ]
  },
  {
   "cell_type": "code",
   "execution_count": 3,
   "metadata": {},
   "outputs": [],
   "source": [
    "sim = FullUnitaryEvolution(circuit)"
   ]
  },
  {
   "cell_type": "code",
   "execution_count": 4,
   "metadata": {},
   "outputs": [],
   "source": [
    "# 'evolve' compiles the full unitary then calculates permanents N x N permanents (where N is the photon number)\n",
    "state_out = sim.full_output_state()"
   ]
  },
  {
   "cell_type": "code",
   "execution_count": 5,
   "metadata": {},
   "outputs": [],
   "source": [
    "sim2 = LayeredEvolution(circuit)"
   ]
  },
  {
   "cell_type": "code",
   "execution_count": 6,
   "metadata": {
    "scrolled": false
   },
   "outputs": [],
   "source": [
    "# 'evolve_by_elements' does not compile the unitary. Instead it evolves the state through the optical elements\n",
    "# one at a time. This is typically faster when the circuit depth is shallow compared to the photon number\n",
    "state_out2 = sim2.full_output_state()"
   ]
  },
  {
   "cell_type": "code",
   "execution_count": 7,
   "metadata": {},
   "outputs": [
    {
     "data": {
      "text/plain": [
       "0.9999999999999876"
      ]
     },
     "execution_count": 7,
     "metadata": {},
     "output_type": "execute_result"
    }
   ],
   "source": [
    "state_out.fidelity(state_out2)"
   ]
  },
  {
   "cell_type": "code",
   "execution_count": 8,
   "metadata": {},
   "outputs": [
    {
     "name": "stdout",
     "output_type": "stream",
     "text": [
      "530 ms ± 7.31 ms per loop (mean ± std. dev. of 7 runs, 1 loop each)\n"
     ]
    }
   ],
   "source": [
    "# time performance\n",
    "%timeit sim.full_output_state()"
   ]
  },
  {
   "cell_type": "code",
   "execution_count": 9,
   "metadata": {},
   "outputs": [
    {
     "name": "stdout",
     "output_type": "stream",
     "text": [
      "162 ms ± 4.02 ms per loop (mean ± std. dev. of 7 runs, 1 loop each)\n"
     ]
    }
   ],
   "source": [
    "%timeit sim2.full_output_state()"
   ]
  },
  {
   "cell_type": "markdown",
   "metadata": {},
   "source": [
    "## Photonic states\n",
    "There is a datastructure class: 'PhotonicState' which is for storing multimode, multiphoton, fixed photon number, states. \n",
    "The Circuit class uses PhotonicState for input states and output states"
   ]
  },
  {
   "cell_type": "code",
   "execution_count": 10,
   "metadata": {},
   "outputs": [
    {
     "data": {
      "text/plain": [
       "states.PhotonicState"
      ]
     },
     "execution_count": 10,
     "metadata": {},
     "output_type": "execute_result"
    }
   ],
   "source": [
    "type(state_out)"
   ]
  },
  {
   "cell_type": "code",
   "execution_count": 11,
   "metadata": {},
   "outputs": [
    {
     "data": {
      "text/plain": [
       "states.PhotonicState"
      ]
     },
     "execution_count": 11,
     "metadata": {},
     "output_type": "execute_result"
    }
   ],
   "source": [
    "type(circuit.global_input_state)"
   ]
  },
  {
   "cell_type": "markdown",
   "metadata": {},
   "source": [
    "## Qudit states\n",
    "The other quantum state datastructure is 'QuditState'. If a PhotonicState can be defined a a system of qudits, we can use .to_qudit_state() method to make a QuditState object from a PhotonicState object"
   ]
  },
  {
   "cell_type": "code",
   "execution_count": 12,
   "metadata": {},
   "outputs": [
    {
     "data": {
      "text/plain": [
       "0.71 exp(i  0.00 pi) |1> + \n",
       "0.71 exp(i  0.00 pi) |5>"
      ]
     },
     "execution_count": 12,
     "metadata": {},
     "output_type": "execute_result"
    }
   ],
   "source": [
    "# make a qubit in modes 1 and 5, initialised in the plus state as a PhotonicState\n",
    "psi_photonic = PhotonicState({(1,) : 1, (5,) : 1})\n",
    "psi_photonic.normalise()\n",
    "psi_photonic"
   ]
  },
  {
   "cell_type": "code",
   "execution_count": 13,
   "metadata": {},
   "outputs": [],
   "source": [
    "# turn it to a qudit state\n",
    "psi_qudit, qudit_modes = psi_photonic.to_qudit_state()"
   ]
  },
  {
   "cell_type": "code",
   "execution_count": 14,
   "metadata": {},
   "outputs": [
    {
     "data": {
      "text/plain": [
       "0.71 exp(i  0.00 pi) |0> + \n",
       "0.71 exp(i  0.00 pi) |1>"
      ]
     },
     "execution_count": 14,
     "metadata": {},
     "output_type": "execute_result"
    }
   ],
   "source": [
    "psi_qudit"
   ]
  },
  {
   "cell_type": "code",
   "execution_count": 15,
   "metadata": {
    "scrolled": true
   },
   "outputs": [
    {
     "data": {
      "text/plain": [
       "{0: (1, 5)}"
      ]
     },
     "execution_count": 15,
     "metadata": {},
     "output_type": "execute_result"
    }
   ],
   "source": [
    "qudit_modes #dict of {qudit : modes of qudit}"
   ]
  },
  {
   "cell_type": "code",
   "execution_count": 16,
   "metadata": {},
   "outputs": [],
   "source": [
    "# turn it back to a photonic state again\n",
    "psi_photonic2 = psi_qudit.to_photonic_state(qudit_modes)"
   ]
  },
  {
   "cell_type": "code",
   "execution_count": 17,
   "metadata": {},
   "outputs": [
    {
     "data": {
      "text/plain": [
       "1.0000000000000004"
      ]
     },
     "execution_count": 17,
     "metadata": {},
     "output_type": "execute_result"
    }
   ],
   "source": [
    "# check it is the same\n",
    "psi_photonic2.fidelity(psi_photonic)"
   ]
  },
  {
   "cell_type": "markdown",
   "metadata": {},
   "source": [
    "## Heralding\n",
    "for benchmarking a circuit for use in heralded state generation, we do not need to know the full state,\n",
    "instead we only care about the state which is heralded after certain detector outcomes. To show this, here is some code to show how we can get the overall success probability of our circuit"
   ]
  },
  {
   "cell_type": "code",
   "execution_count": 18,
   "metadata": {},
   "outputs": [],
   "source": [
    "success_prob = 0\n",
    "good_success_prob = 0\n",
    "correction_prob = 0\n",
    "\n",
    "# gen_detector_patterns gives all the possible ways that photons could appear in the detectors\n",
    "# we care about heralding a 2 photon state, so we want detector patterns with 2 less photons than the full state\n",
    "for pattern in circuit.gen_detector_patterns(2*d - 2):\n",
    "    \n",
    "    #evolve_to_detector_pattern allows us to only look at the terms in the state which give the given pattern\n",
    "    photonic_state = sim.heralded_output_state(pattern)\n",
    "    \n",
    "    #normalise the state to get the probability of this outcome\n",
    "    prob = photonic_state.normalise()\n",
    "    \n",
    "    if prob > 1e-15: #check the outcome is possible\n",
    "        qudit_state, qudit_systems = photonic_state.to_qudit_state()\n",
    "    \n",
    "        # check heralded state gives a valid qudit state\n",
    "        if qudit_state is not None:\n",
    "            \n",
    "            if qudit_state.d == d: # check the qudit state needs d dimensions to be described\n",
    "                s = qudit_state.schmidt() #.schmidt gives the Schmidt coefficients of the state\n",
    "                rank = len(np.where(s > 1e-15)[0])\n",
    "                #if all schmidt coefficients are the same, the state is maximally entangled\n",
    "                if np.allclose(s, s[0]): \n",
    "                    success_prob += prob\n",
    "                    \n",
    "                    #we might sometimes only want bell states where the first qudit is the\n",
    "                    #first d modes, and the 2nd is the next d modes. We can also keep track\n",
    "                    #of the probability of making these 'good' bell states\n",
    "                    if qudit_systems[0] == tuple(range(d)):\n",
    "                        good_success_prob += prob\n",
    "                else:\n",
    "                    # calculate schmidt rank of state\n",
    "                    rank = len(np.where(s > 1e-15)[0])\n",
    "                    if rank == d:\n",
    "                        # we can probabilistically transform any 2 photon, schmidt rank = d state \n",
    "                        # into a qudit bell state with linear optics and heralding on the vacuum, \n",
    "                        # this succeeds with probability:\n",
    "                        prob_correct = rank * abs(s[rank-1])**2\n",
    "                        correction_prob += prob * prob_correct"
   ]
  },
  {
   "cell_type": "code",
   "execution_count": 19,
   "metadata": {},
   "outputs": [
    {
     "data": {
      "text/plain": [
       "0.021947873799725626"
      ]
     },
     "execution_count": 19,
     "metadata": {},
     "output_type": "execute_result"
    }
   ],
   "source": [
    "success_prob"
   ]
  },
  {
   "cell_type": "code",
   "execution_count": 20,
   "metadata": {},
   "outputs": [
    {
     "data": {
      "text/plain": [
       "0.021947873799725626"
      ]
     },
     "execution_count": 20,
     "metadata": {},
     "output_type": "execute_result"
    }
   ],
   "source": [
    "good_success_prob #in this circuit, all the states generated are 'good'"
   ]
  },
  {
   "cell_type": "code",
   "execution_count": 21,
   "metadata": {
    "scrolled": false
   },
   "outputs": [
    {
     "data": {
      "text/plain": [
       "0"
      ]
     },
     "execution_count": 21,
     "metadata": {},
     "output_type": "execute_result"
    }
   ],
   "source": [
    "correction_prob # for d = 4, we see that we get an extra ~50% success probability by adding a correction circuit"
   ]
  },
  {
   "cell_type": "code",
   "execution_count": 22,
   "metadata": {},
   "outputs": [
    {
     "data": {
      "text/plain": [
       "0.021947873799725626"
      ]
     },
     "execution_count": 22,
     "metadata": {},
     "output_type": "execute_result"
    }
   ],
   "source": [
    "total = success_prob + correction_prob\n",
    "total"
   ]
  },
  {
   "cell_type": "markdown",
   "metadata": {},
   "source": [
    "## Bell state version 1"
   ]
  },
  {
   "cell_type": "code",
   "execution_count": 23,
   "metadata": {
    "scrolled": false
   },
   "outputs": [
    {
     "data": {
      "text/plain": [
       "(<Figure size 318.528x604.8 with 1 Axes>,\n",
       " <matplotlib.axes._subplots.AxesSubplot at 0x2269314bdd8>)"
      ]
     },
     "execution_count": 23,
     "metadata": {},
     "output_type": "execute_result"
    },
    {
     "data": {
      "image/png": "[encoded data removed]",
      "text/plain": [
       "<Figure size 318.528x604.8 with 1 Axes>"
      ]
     },
     "metadata": {
      "needs_background": "light"
     },
     "output_type": "display_data"
    }
   ],
   "source": [
    "d = 3\n",
    "\n",
    "circuit = Circuit()\n",
    "circuit.add_input_photons(range(d+1,3*d+1,2))\n",
    "circuit.add_input_photons(range(3*d, d*(d+1),d))\n",
    "circuit.add_input_photons(range(d*(d+1), d*(d+3), 2))\n",
    "\n",
    "R_1 = 1/d\n",
    "R_2 = (d-2)/(d-1)\n",
    "\n",
    "circuit.add_optical_layer(I(d), *[BS(R_1)]*d, *[DFT(d)]*(d-2), *[BS(R_1)]*d, I(d))\n",
    "circuit.add_optical_layer(SwapOut(2,d,offset=d), SwapOut(2,d, offset=d*(d+1)))\n",
    "circuit.add_optical_layer(SwapOut(d,d, offset=2*d))\n",
    "circuit.add_optical_layer(SwapOut(d,2), SwapOut(d,2,offset=d*(d+2)))\n",
    "circuit.add_optical_layer(*[BS(R_2)]*d, *[DFT(d)]*d, *[BS(R_2)]*d)\n",
    "circuit.add_optical_layer(SwapOut(2,d), SwapOut(2,d,offset=d*(d+2)))\n",
    "circuit.add_optical_layer(DFT(d, offset=d), DFT(d, offset=d*(d+2)))\n",
    "\n",
    "circuit.add_detectors(range(d, d**2+3*d))\n",
    "\n",
    "circuit.draw()"
   ]
  },
  {
   "cell_type": "code",
   "execution_count": 24,
   "metadata": {
    "scrolled": false
   },
   "outputs": [],
   "source": [
    "sim = FullUnitaryEvolution(circuit)\n",
    "\n",
    "success_prob = 0\n",
    "good_success_prob = 0\n",
    "correction_prob = 0\n",
    "\n",
    "det_group_sizes = [d] * (d+2)\n",
    "photon_numbers = [d-2] + [1]*d + [d-2]\n",
    "for pattern in circuit.gen_constrained_detector_patterns(det_group_sizes, photon_numbers, only_single_click=True):\n",
    "    photonic_state = sim.heralded_output_state(pattern)\n",
    "    prob = photonic_state.normalise()\n",
    "    if prob > 1e-15: \n",
    "        qudit_state, qudit_systems = photonic_state.to_qudit_state()\n",
    "        if qudit_state is not None:\n",
    "            if qudit_state.d == d:\n",
    "                s = qudit_state.schmidt() \n",
    "                rank = len(np.where(s > 1e-15)[0])\n",
    "                if np.allclose(s, s[0]):\n",
    "                    success_prob += prob                    \n",
    "                    if qudit_systems[0] == tuple(range(d)):\n",
    "                        good_success_prob += prob\n",
    "                else:\n",
    "                    rank = len(np.where(s > 1e-14)[0])\n",
    "                    if rank == d:\n",
    "                        prob_correct = rank * abs(s[rank-1])**2\n",
    "                        correction_prob += prob * prob_correct"
   ]
  },
  {
   "cell_type": "code",
   "execution_count": 25,
   "metadata": {
    "scrolled": true
   },
   "outputs": [
    {
     "data": {
      "text/plain": [
       "0.0004064421074023266"
      ]
     },
     "execution_count": 25,
     "metadata": {},
     "output_type": "execute_result"
    }
   ],
   "source": [
    "success_prob"
   ]
  },
  {
   "cell_type": "code",
   "execution_count": 26,
   "metadata": {},
   "outputs": [
    {
     "data": {
      "text/plain": [
       "0.0004064421074023266"
      ]
     },
     "execution_count": 26,
     "metadata": {},
     "output_type": "execute_result"
    }
   ],
   "source": [
    "good_success_prob"
   ]
  },
  {
   "cell_type": "code",
   "execution_count": 27,
   "metadata": {},
   "outputs": [
    {
     "data": {
      "text/plain": [
       "0.00010161052685058163"
      ]
     },
     "execution_count": 27,
     "metadata": {},
     "output_type": "execute_result"
    }
   ],
   "source": [
    "correction_prob"
   ]
  },
  {
   "cell_type": "code",
   "execution_count": 28,
   "metadata": {},
   "outputs": [
    {
     "data": {
      "text/plain": [
       "0.0005080526342529082"
      ]
     },
     "execution_count": 28,
     "metadata": {},
     "output_type": "execute_result"
    }
   ],
   "source": [
    "total = success_prob + correction_prob\n",
    "total"
   ]
  },
  {
   "cell_type": "markdown",
   "metadata": {},
   "source": [
    "## Bell state version 2A"
   ]
  },
  {
   "cell_type": "code",
   "execution_count": 29,
   "metadata": {},
   "outputs": [
    {
     "data": {
      "text/plain": [
       "(<Figure size 244.8x460.8 with 1 Axes>,\n",
       " <matplotlib.axes._subplots.AxesSubplot at 0x2269444e978>)"
      ]
     },
     "execution_count": 29,
     "metadata": {},
     "output_type": "execute_result"
    },
    {
     "data": {
      "image/png": "[encoded data removed]",
      "text/plain": [
       "<Figure size 244.8x460.8 with 1 Axes>"
      ]
     },
     "metadata": {
      "needs_background": "light"
     },
     "output_type": "display_data"
    }
   ],
   "source": [
    "d = 4\n",
    "\n",
    "circuit = Circuit()\n",
    "\n",
    "circuit.add_input_photons(range(1, 2*d, 2))\n",
    "circuit.add_input_photons(range(2*d, 4*d, 2))\n",
    "\n",
    "R = (d - 1) / d\n",
    "circuit.add_optical_layer(*[BS(R)]*2*d)\n",
    "circuit.add_optical_layer(SwapOut(2,d), SwapOut(2,d))\n",
    "circuit.add_optical_layer(DFT(2*d,offset=d))\n",
    "\n",
    "circuit.add_detectors(range(d, 3*d))\n",
    "    \n",
    "circuit.draw(3.5)"
   ]
  },
  {
   "cell_type": "code",
   "execution_count": 30,
   "metadata": {},
   "outputs": [],
   "source": [
    "sim = FullUnitaryEvolution(circuit)\n",
    "\n",
    "success_prob = 0\n",
    "good_success_prob = 0\n",
    "correction_prob = 0\n",
    "\n",
    "# gen_detector_patterns gives all the possible ways that photons could appear in the detectors\n",
    "# we care about heralding a 2 photon state from 2d photons, so we want detector patterns with 2d-2 photons\n",
    "for pattern in circuit.gen_detector_patterns(circuit.photon_number - 2):\n",
    "    #evolve_to_detector_pattern allows us to only look at the terms in the state which give the given pattern\n",
    "    photonic_state = sim.heralded_output_state(pattern)\n",
    "    \n",
    "    #normalise the state to get the probability of the this outcome\n",
    "    prob = photonic_state.normalise()\n",
    "    \n",
    "    if prob > 1e-15: #check the outcome is possible\n",
    "        qudit_state, qudit_systems = photonic_state.to_qudit_state()\n",
    "    \n",
    "        # check heralded state gives a valid qudit state\n",
    "        if qudit_state is not None:\n",
    "            \n",
    "            if qudit_state.d == d: # check the qudit state needs d dimensions to be described\n",
    "                s = qudit_state.schmidt() #.schmidt gives the Schmidt coefficients of the state\n",
    "                rank = len(np.where(s > 1e-15)[0])\n",
    "                #if all schmidt coefficients are the same, the state is maximally entangled\n",
    "                if np.allclose(s, s[0]): \n",
    "                    success_prob += prob\n",
    "                    \n",
    "                    #we might sometimes only want bell states where the first qudit is the\n",
    "                    #first d modes, and the 2nd is the next d modes. We can also keep track\n",
    "                    #of the probability of making these 'good' bell states\n",
    "                    if qudit_systems[0] == tuple(range(d)):\n",
    "                        good_success_prob += prob\n",
    "                else:\n",
    "                    # calculate schmidt rank of state\n",
    "                    rank = len(np.where(s > 1e-14)[0])\n",
    "                    if rank == d:\n",
    "                        # we can probabilistically transform any 2 photon, schmidt rank = d state \n",
    "                        # into a qudit bell state with linear optics and heralding on the vacuum, \n",
    "                        # this succeeds with probability:\n",
    "                        prob_correct = rank * abs(s[rank-1])**2\n",
    "                        correction_prob += prob * prob_correct"
   ]
  },
  {
   "cell_type": "code",
   "execution_count": 31,
   "metadata": {},
   "outputs": [
    {
     "data": {
      "text/plain": [
       "0.0018249750137329219"
      ]
     },
     "execution_count": 31,
     "metadata": {},
     "output_type": "execute_result"
    }
   ],
   "source": [
    "success_prob"
   ]
  },
  {
   "cell_type": "code",
   "execution_count": 32,
   "metadata": {},
   "outputs": [
    {
     "data": {
      "text/plain": [
       "0.0018249750137329219"
      ]
     },
     "execution_count": 32,
     "metadata": {},
     "output_type": "execute_result"
    }
   ],
   "source": [
    "good_success_prob"
   ]
  },
  {
   "cell_type": "code",
   "execution_count": 33,
   "metadata": {},
   "outputs": [
    {
     "data": {
      "text/plain": [
       "0"
      ]
     },
     "execution_count": 33,
     "metadata": {},
     "output_type": "execute_result"
    }
   ],
   "source": [
    "correction_prob"
   ]
  },
  {
   "cell_type": "code",
   "execution_count": 34,
   "metadata": {},
   "outputs": [
    {
     "data": {
      "text/plain": [
       "0.0018249750137329219"
      ]
     },
     "execution_count": 34,
     "metadata": {},
     "output_type": "execute_result"
    }
   ],
   "source": [
    "total = success_prob + correction_prob\n",
    "total"
   ]
  },
  {
   "cell_type": "markdown",
   "metadata": {},
   "source": [
    "## version 2B"
   ]
  },
  {
   "cell_type": "code",
   "execution_count": 35,
   "metadata": {},
   "outputs": [
    {
     "data": {
      "text/plain": [
       "(<Figure size 295.488x345.6 with 1 Axes>,\n",
       " <matplotlib.axes._subplots.AxesSubplot at 0x22690ffe2e8>)"
      ]
     },
     "execution_count": 35,
     "metadata": {},
     "output_type": "execute_result"
    },
    {
     "data": {
      "image/png": "[encoded data removed]",
      "text/plain": [
       "<Figure size 295.488x345.6 with 1 Axes>"
      ]
     },
     "metadata": {
      "needs_background": "light"
     },
     "output_type": "display_data"
    }
   ],
   "source": [
    "d = 3\n",
    "\n",
    "circuit = Circuit()\n",
    "\n",
    "circuit.add_input_photons(range(1, 2*d, 2))\n",
    "circuit.add_input_photons(range(2*d, 4*d, 2))\n",
    "\n",
    "R = (d - 1) / d\n",
    "circuit.add_optical_layer(*[BS(R)]*2*d)\n",
    "circuit.add_optical_layer(SwapOut(2,d), SwapOut(2,d))\n",
    "circuit.add_optical_layer(I(d), *[BS(0.5)]*d, I(d))\n",
    "circuit.add_optical_layer(SwapOut(2,d,offset=d))\n",
    "circuit.add_optical_layer(DFT(d,offset=d), DFT(d))\n",
    "\n",
    "circuit.add_detectors(range(d, 3*d))\n",
    "    \n",
    "circuit.draw(3.5)"
   ]
  },
  {
   "cell_type": "code",
   "execution_count": 36,
   "metadata": {},
   "outputs": [],
   "source": [
    "sim = FullUnitaryEvolution(circuit)\n",
    "\n",
    "success_prob = 0\n",
    "good_success_prob = 0\n",
    "correction_prob = 0\n",
    "\n",
    "# gen_detector_patterns gives all the possible ways that photons could appear in the detectors\n",
    "# we care about heralding a 2 photon state from 2d photons, so we want detector patterns with 2d-2 photons\n",
    "for pattern in circuit.gen_detector_patterns(circuit.photon_number - 2):\n",
    "    #evolve_to_detector_pattern allows us to only look at the terms in the state which give the given pattern\n",
    "    photonic_state = sim.heralded_output_state(pattern)\n",
    "    \n",
    "    #normalise the state to get the probability of the this outcome\n",
    "    prob = photonic_state.normalise()\n",
    "    \n",
    "    if prob > 1e-15: #check the outcome is possible\n",
    "        qudit_state, qudit_systems = photonic_state.to_qudit_state()\n",
    "    \n",
    "        # check heralded state gives a valid qudit state\n",
    "        if qudit_state is not None:\n",
    "            \n",
    "            if qudit_state.d == d: # check the qudit state needs d dimensions to be described\n",
    "                s = qudit_state.schmidt() #.schmidt gives the Schmidt coefficients of the state\n",
    "                rank = len(np.where(s > 1e-15)[0])\n",
    "                #if all schmidt coefficients are the same, the state is maximally entangled\n",
    "                if np.allclose(s, s[0]): \n",
    "                    success_prob += prob\n",
    "                    \n",
    "                    #we might sometimes only want bell states where the first qudit is the\n",
    "                    #first d modes, and the 2nd is the next d modes. We can also keep track\n",
    "                    #of the probability of making these 'good' bell states\n",
    "                    if qudit_systems[0] == tuple(range(d)):\n",
    "                        good_success_prob += prob\n",
    "                else:\n",
    "                    # calculate schmidt rank of state\n",
    "                    rank = len(np.where(s > 1e-14)[0])\n",
    "                    if rank == d:\n",
    "                        # we can probabilistically transform any 2 photon, schmidt rank = d state \n",
    "                        # into a qudit bell state with linear optics and heralding on the vacuum, \n",
    "                        # this succeeds with probability:\n",
    "                        prob_correct = rank * abs(s[rank-1])**2\n",
    "                        correction_prob += prob * prob_correct"
   ]
  },
  {
   "cell_type": "code",
   "execution_count": 37,
   "metadata": {},
   "outputs": [
    {
     "data": {
      "text/plain": [
       "0.010973936899862834"
      ]
     },
     "execution_count": 37,
     "metadata": {},
     "output_type": "execute_result"
    }
   ],
   "source": [
    "success_prob"
   ]
  },
  {
   "cell_type": "code",
   "execution_count": 38,
   "metadata": {},
   "outputs": [
    {
     "data": {
      "text/plain": [
       "0"
      ]
     },
     "execution_count": 38,
     "metadata": {},
     "output_type": "execute_result"
    }
   ],
   "source": [
    "good_success_prob"
   ]
  },
  {
   "cell_type": "code",
   "execution_count": 39,
   "metadata": {},
   "outputs": [
    {
     "data": {
      "text/plain": [
       "0"
      ]
     },
     "execution_count": 39,
     "metadata": {},
     "output_type": "execute_result"
    }
   ],
   "source": [
    "correction_prob"
   ]
  },
  {
   "cell_type": "code",
   "execution_count": 40,
   "metadata": {},
   "outputs": [
    {
     "data": {
      "text/plain": [
       "0.010973936899862834"
      ]
     },
     "execution_count": 40,
     "metadata": {},
     "output_type": "execute_result"
    }
   ],
   "source": [
    "total = success_prob + correction_prob\n",
    "total"
   ]
  },
  {
   "cell_type": "markdown",
   "metadata": {},
   "source": [
    "## version 2C"
   ]
  },
  {
   "cell_type": "code",
   "execution_count": 41,
   "metadata": {},
   "outputs": [
    {
     "data": {
      "text/plain": [
       "(<Figure size 295.488x345.6 with 1 Axes>,\n",
       " <matplotlib.axes._subplots.AxesSubplot at 0x22694707a58>)"
      ]
     },
     "execution_count": 41,
     "metadata": {},
     "output_type": "execute_result"
    },
    {
     "data": {
      "image/png": "[encoded data removed]",
      "text/plain": [
       "<Figure size 295.488x345.6 with 1 Axes>"
      ]
     },
     "metadata": {
      "needs_background": "light"
     },
     "output_type": "display_data"
    }
   ],
   "source": [
    "d = 3\n",
    "\n",
    "circuit = Circuit()\n",
    "\n",
    "circuit.add_input_photons(range(1, 2*d, 2))\n",
    "circuit.add_input_photons(range(2*d, 4*d, 2))\n",
    "\n",
    "R = (d - 1) / d\n",
    "circuit.add_optical_layer(*[BS(R)]*2*d)\n",
    "circuit.add_optical_layer(SwapOut(2,d), SwapOut(2,d))\n",
    "circuit.add_optical_layer(DFT(d,offset=d), DFT(d))\n",
    "circuit.add_optical_layer(SwapOut(d,2,offset=d))\n",
    "circuit.add_optical_layer(I(d), *[BS(0.5)]*d, I(d))\n",
    "\n",
    "circuit.add_detectors(range(d, 3*d))\n",
    "    \n",
    "circuit.draw(3.5)"
   ]
  },
  {
   "cell_type": "code",
   "execution_count": 42,
   "metadata": {},
   "outputs": [],
   "source": [
    "sim = FullUnitaryEvolution(circuit)\n",
    "\n",
    "success_prob = 0\n",
    "good_success_prob = 0\n",
    "correction_prob = 0\n",
    "\n",
    "# gen_detector_patterns gives all the possible ways that photons could appear in the detectors\n",
    "# we care about heralding a 2 photon state from 2d photons, so we want detector patterns with 2d-2 photons\n",
    "for pattern in circuit.gen_detector_patterns(circuit.photon_number - 2):\n",
    "    #evolve_to_detector_pattern allows us to only look at the terms in the state which give the given pattern\n",
    "    photonic_state = sim.heralded_output_state(pattern)\n",
    "    \n",
    "    #normalise the state to get the probability of the this outcome\n",
    "    prob = photonic_state.normalise()\n",
    "    \n",
    "    if prob > 1e-15: #check the outcome is possible\n",
    "        qudit_state, qudit_systems = photonic_state.to_qudit_state()\n",
    "    \n",
    "        # check heralded state gives a valid qudit state\n",
    "        if qudit_state is not None:\n",
    "            \n",
    "            if qudit_state.d == d: # check the qudit state needs d dimensions to be described\n",
    "                s = qudit_state.schmidt() #.schmidt gives the Schmidt coefficients of the state\n",
    "                rank = len(np.where(s > 1e-15)[0])\n",
    "                #if all schmidt coefficients are the same, the state is maximally entangled\n",
    "                if np.allclose(s, s[0]): \n",
    "                    success_prob += prob\n",
    "                    \n",
    "                    #we might sometimes only want bell states where the first qudit is the\n",
    "                    #first d modes, and the 2nd is the next d modes. We can also keep track\n",
    "                    #of the probability of making these 'good' bell states\n",
    "                    if qudit_systems[0] == tuple(range(d)):\n",
    "                        good_success_prob += prob\n",
    "                else:\n",
    "                    # calculate schmidt rank of state\n",
    "                    rank = len(np.where(s > 1e-14)[0])\n",
    "                    if rank == d:\n",
    "                        # we can probabilistically transform any 2 photon, schmidt rank = d state \n",
    "                        # into a qudit bell state with linear optics and heralding on the vacuum, \n",
    "                        # this succeeds with probability:\n",
    "                        prob_correct = rank * abs(s[rank-1])**2\n",
    "                        correction_prob += prob * prob_correct"
   ]
  },
  {
   "cell_type": "code",
   "execution_count": 43,
   "metadata": {},
   "outputs": [
    {
     "data": {
      "text/plain": [
       "0.02194787379972566"
      ]
     },
     "execution_count": 43,
     "metadata": {},
     "output_type": "execute_result"
    }
   ],
   "source": [
    "success_prob"
   ]
  },
  {
   "cell_type": "code",
   "execution_count": 44,
   "metadata": {},
   "outputs": [
    {
     "data": {
      "text/plain": [
       "0.02194787379972566"
      ]
     },
     "execution_count": 44,
     "metadata": {},
     "output_type": "execute_result"
    }
   ],
   "source": [
    "good_success_prob"
   ]
  },
  {
   "cell_type": "code",
   "execution_count": 45,
   "metadata": {},
   "outputs": [
    {
     "data": {
      "text/plain": [
       "0"
      ]
     },
     "execution_count": 45,
     "metadata": {},
     "output_type": "execute_result"
    }
   ],
   "source": [
    "correction_prob "
   ]
  },
  {
   "cell_type": "code",
   "execution_count": 46,
   "metadata": {},
   "outputs": [
    {
     "data": {
      "text/plain": [
       "0.02194787379972566"
      ]
     },
     "execution_count": 46,
     "metadata": {},
     "output_type": "execute_result"
    }
   ],
   "source": [
    "total = success_prob + correction_prob\n",
    "total"
   ]
  },
  {
   "cell_type": "markdown",
   "metadata": {},
   "source": [
    "## ZTL bell state generator"
   ]
  },
  {
   "cell_type": "code",
   "execution_count": 47,
   "metadata": {},
   "outputs": [
    {
     "data": {
      "text/plain": [
       "(<Figure size 169.92x316.8 with 1 Axes>,\n",
       " <matplotlib.axes._subplots.AxesSubplot at 0x22690f559b0>)"
      ]
     },
     "execution_count": 47,
     "metadata": {},
     "output_type": "execute_result"
    },
    {
     "data": {
      "image/png": "[encoded data removed]",
      "text/plain": [
       "<Figure size 169.92x316.8 with 1 Axes>"
      ]
     },
     "metadata": {
      "needs_background": "light"
     },
     "output_type": "display_data"
    }
   ],
   "source": [
    "d = 5\n",
    "\n",
    "circuit = Circuit()\n",
    "\n",
    "circuit.add_input_photons(range(2*d+1))\n",
    "circuit.add_optical_layer(DFT(2*d+1))\n",
    "circuit.add_detectors([0])\n",
    "\n",
    "circuit.draw()"
   ]
  },
  {
   "cell_type": "code",
   "execution_count": 48,
   "metadata": {},
   "outputs": [
    {
     "name": "stdout",
     "output_type": "stream",
     "text": [
      "0.00076948271875631\n",
      "0.45 exp(i  1.00 pi) |0,4> + \n",
      "0.45 exp(i  1.00 pi) |1,3> + \n",
      "0.45 exp(i  1.00 pi) |2,2> + \n",
      "0.45 exp(i  1.00 pi) |3,1> + \n",
      "0.45 exp(i  1.00 pi) |4,0>\n"
     ]
    }
   ],
   "source": [
    "sim = FullUnitaryEvolution(circuit)\n",
    "\n",
    "# here we only have one outcome which heralds a 2 photon state\n",
    "photonic_state = sim.heralded_output_state([2*d-1])\n",
    "\n",
    "prob = photonic_state.normalise()\n",
    "print(prob)\n",
    "print(photonic_state.to_qudit_state()[0])"
   ]
  },
  {
   "cell_type": "code",
   "execution_count": null,
   "metadata": {},
   "outputs": [],
   "source": []
  }
 ],
 "metadata": {
  "kernelspec": {
   "display_name": "Python 3",
   "language": "python",
   "name": "python3"
  },
  "language_info": {
   "codemirror_mode": {
    "name": "ipython",
    "version": 3
   },
   "file_extension": ".py",
   "mimetype": "text/x-python",
   "name": "python",
   "nbconvert_exporter": "python",
   "pygments_lexer": "ipython3",
   "version": "3.7.3"
  }
 },
 "nbformat": 4,
 "nbformat_minor": 4
}
