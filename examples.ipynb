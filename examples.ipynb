{
 "cells": [
  {
   "cell_type": "code",
   "execution_count": 1,
   "metadata": {},
   "outputs": [],
   "source": [
    "from photonic_circuit import Circuit\n",
    "from optical_elements import BS, DFT, SwapOut, I\n",
    "from states import PhotonicState, QuditState"
   ]
  },
  {
   "cell_type": "markdown",
   "metadata": {},
   "source": [
    "## Example: qudit bell state version 3\n",
    "just to show the gist of how to use this simulator, let's look at how to simulate the version 3 qudit bell state generator"
   ]
  },
  {
   "cell_type": "code",
   "execution_count": 2,
   "metadata": {},
   "outputs": [
    {
     "data": {
      "text/plain": [
       "(<Figure size 318.528x345.6 with 1 Axes>,\n",
       " <matplotlib.axes._subplots.AxesSubplot at 0x1915c31c160>)"
      ]
     },
     "execution_count": 2,
     "metadata": {},
     "output_type": "execute_result"
    },
    {
     "data": {
      "image/png": "[encoded data removed]",
      "text/plain": [
       "<Figure size 318.528x345.6 with 1 Axes>"
      ]
     },
     "metadata": {
      "needs_background": "light"
     },
     "output_type": "display_data"
    }
   ],
   "source": [
    "d = 3 # qudit dimension\n",
    "\n",
    "# Circuit class holds information about the input state, \n",
    "# the optics of the circuit and where the detectors go\n",
    "circuit = Circuit() \n",
    "\n",
    "# for the visualisation to work, you want to define things in the order they appear in the circuit,\n",
    "# so input state first, then optical components, then detectors\n",
    "\n",
    "### define input state ###\n",
    "# here we want single photons in all modes from d to 3*d-1\n",
    "circuit.add_input_photons(range(d,3*d))\n",
    "\n",
    "### define optical circuit ###\n",
    "\n",
    "# each 'OpticalElement' class (i.e. DFT, BS...) takes arguements to define it's transformation\n",
    "# and an additional arguement 'offset' which defines the first mode which this element will act on\n",
    "# if offset is not specified the element will appear directly below the previous element\n",
    "\n",
    "circuit.add_optical_elements(DFT(d,offset=d), DFT(d))\n",
    "circuit.add_optical_elements(SwapOut(d,2), SwapOut(d,2))\n",
    "circuit.add_optical_elements(*[BS((d-1)/d)]*2*d)\n",
    "circuit.add_optical_elements(SwapOut(2,d), SwapOut(2,d))\n",
    "circuit.add_optical_elements(SwapOut(d,2,offset=d))\n",
    "circuit.add_optical_elements(I(d), *[BS(0.5)]*d, I(d))\n",
    "\n",
    "### define position of detectors ###\n",
    "circuit.add_detectors(range(d,3*d))\n",
    "\n",
    "### draw the circuit ###\n",
    "circuit.draw(3) "
   ]
  },
  {
   "cell_type": "markdown",
   "metadata": {},
   "source": [
    "## Strong simulation\n",
    "here we show the two methods for simulating the full quantum state, 'evolve' and 'evolve_in_steps'"
   ]
  },
  {
   "cell_type": "code",
   "execution_count": 3,
   "metadata": {},
   "outputs": [],
   "source": [
    "# 'evolve' compiles the full unitary then calculates permanents N x N permanents (where N is the photon number)\n",
    "state_out = circuit.evolve()"
   ]
  },
  {
   "cell_type": "code",
   "execution_count": 4,
   "metadata": {},
   "outputs": [],
   "source": [
    "# 'evolve_in_steps' does not compile the unitary. Instead it evolves the state through the optical elements\n",
    "# one at a time. This is typically faster when the circuit depth is shallow compared to the photon number\n",
    "state_out2 = circuit.evolve_in_steps()"
   ]
  },
  {
   "cell_type": "code",
   "execution_count": 5,
   "metadata": {},
   "outputs": [
    {
     "data": {
      "text/plain": [
       "0.999999999999988"
      ]
     },
     "execution_count": 5,
     "metadata": {},
     "output_type": "execute_result"
    }
   ],
   "source": [
    "# we can check that both methods give the same state\n",
    "state_out.fidelity(state_out2)"
   ]
  },
  {
   "cell_type": "code",
   "execution_count": 6,
   "metadata": {},
   "outputs": [
    {
     "name": "stdout",
     "output_type": "stream",
     "text": [
      "547 ms ± 11.1 ms per loop (mean ± std. dev. of 7 runs, 1 loop each)\n"
     ]
    }
   ],
   "source": [
    "# time performance\n",
    "%timeit circuit.evolve()"
   ]
  },
  {
   "cell_type": "code",
   "execution_count": 7,
   "metadata": {},
   "outputs": [
    {
     "name": "stdout",
     "output_type": "stream",
     "text": [
      "141 ms ± 7.4 ms per loop (mean ± std. dev. of 7 runs, 10 loops each)\n"
     ]
    }
   ],
   "source": [
    "%timeit circuit.evolve_in_steps()"
   ]
  },
  {
   "cell_type": "markdown",
   "metadata": {},
   "source": [
    "## Photonic states\n",
    "There is a datastructure class: 'PhotonicState' which is for storing multimode, multiphoton, fixed photon number, states. \n",
    "The Circuit class uses PhotonicState for input states and output states"
   ]
  },
  {
   "cell_type": "code",
   "execution_count": 8,
   "metadata": {},
   "outputs": [
    {
     "data": {
      "text/plain": [
       "states.PhotonicState"
      ]
     },
     "execution_count": 8,
     "metadata": {},
     "output_type": "execute_result"
    }
   ],
   "source": [
    "type(state_out)"
   ]
  },
  {
   "cell_type": "code",
   "execution_count": 9,
   "metadata": {},
   "outputs": [
    {
     "data": {
      "text/plain": [
       "states.PhotonicState"
      ]
     },
     "execution_count": 9,
     "metadata": {},
     "output_type": "execute_result"
    }
   ],
   "source": [
    "type(circuit.global_input_state)"
   ]
  },
  {
   "cell_type": "markdown",
   "metadata": {},
   "source": [
    "## Qudit states\n",
    "The other quantum state datastructure is 'QuditState'. If a PhotonicState can be defined a a system of qudits, we can use .to_qudit_state() method to make a QuditState object from a PhotonicState object"
   ]
  },
  {
   "cell_type": "code",
   "execution_count": 10,
   "metadata": {},
   "outputs": [
    {
     "data": {
      "text/plain": [
       "0.71 exp(i  0.00 pi) |1> + \n",
       "0.71 exp(i  0.00 pi) |5>"
      ]
     },
     "execution_count": 10,
     "metadata": {},
     "output_type": "execute_result"
    }
   ],
   "source": [
    "# make a qubit in modes 1 and 5, initialised in the plus state as a PhotonicState\n",
    "psi_photonic = PhotonicState({(1,) : 1, (5,) : 1})\n",
    "psi_photonic.normalise()\n",
    "psi_photonic"
   ]
  },
  {
   "cell_type": "code",
   "execution_count": 11,
   "metadata": {},
   "outputs": [],
   "source": [
    "# turn it to a qudit state\n",
    "psi_qudit, qudit_modes = psi_photonic.to_qudit_state()"
   ]
  },
  {
   "cell_type": "code",
   "execution_count": 12,
   "metadata": {},
   "outputs": [
    {
     "data": {
      "text/plain": [
       "0.71 exp(i  0.00 pi) |0> + \n",
       "0.71 exp(i  0.00 pi) |1>"
      ]
     },
     "execution_count": 12,
     "metadata": {},
     "output_type": "execute_result"
    }
   ],
   "source": [
    "psi_qudit"
   ]
  },
  {
   "cell_type": "code",
   "execution_count": 13,
   "metadata": {
    "scrolled": true
   },
   "outputs": [
    {
     "data": {
      "text/plain": [
       "{0: (1, 5)}"
      ]
     },
     "execution_count": 13,
     "metadata": {},
     "output_type": "execute_result"
    }
   ],
   "source": [
    "qudit_modes #dict of {qudit : modes of qudit}"
   ]
  },
  {
   "cell_type": "code",
   "execution_count": 14,
   "metadata": {},
   "outputs": [],
   "source": [
    "# turn it back to a photonic state again\n",
    "psi_photonic2 = psi_qudit.to_photonic_state(qudit_modes)"
   ]
  },
  {
   "cell_type": "code",
   "execution_count": 15,
   "metadata": {},
   "outputs": [
    {
     "data": {
      "text/plain": [
       "1.0000000000000004"
      ]
     },
     "execution_count": 15,
     "metadata": {},
     "output_type": "execute_result"
    }
   ],
   "source": [
    "# check it is the same\n",
    "psi_photonic2.fidelity(psi_photonic)"
   ]
  },
  {
   "cell_type": "markdown",
   "metadata": {},
   "source": [
    "## Heralding\n",
    "for benchmarking a circuit for use in heralded state generation, we do not need to know the full state,\n",
    "instead we only care about the state which is heralded after certain detector outcomes. To show this, here is some code to show how we can get the overall success probability of our circuit"
   ]
  },
  {
   "cell_type": "code",
   "execution_count": 16,
   "metadata": {},
   "outputs": [],
   "source": [
    "success_prob = 0\n",
    "good_success_prob = 0\n",
    "\n",
    "# gen_detector_patterns gives all the possible ways that photons could appear in the detectors\n",
    "# we care about heralding a 2 photon state from 2d photons, so we want detector patterns with 2d-2 photons\n",
    "for pattern in circuit.gen_detector_patterns(2*d - 2):\n",
    "    \n",
    "    #evolve_to_detector_pattern allows us to only look at the terms in the state which give the given pattern\n",
    "    photonic_state = circuit.evolve_to_detector_pattern(pattern)\n",
    "    \n",
    "    #normalise the state to get the probability of the this outcome\n",
    "    prob = photonic_state.normalise()\n",
    "    \n",
    "    if prob > 1e-15: #check the outcome is possible\n",
    "        qudit_state, qudit_systems = photonic_state.to_qudit_state()\n",
    "    \n",
    "        # check heralded state gives a valid qudit state\n",
    "        if qudit_state is not None:\n",
    "            \n",
    "            if qudit_state.d == d: # check the qudit state needs d dimensions to be described\n",
    "                s = qudit_state.schmidt() #.schmidt gives the Schmidt coefficients of the state\n",
    "                \n",
    "                #if all schmidt coefficients are the same, the state is maximally entangled\n",
    "                if np.allclose(s, s[0]): \n",
    "                    success_prob += prob\n",
    "                    \n",
    "                    #we might sometimes only want bell states where the first qudit is the\n",
    "                    #first d modes, and the 2nd is the next d modes. We can also keep track\n",
    "                    #of the probability of making these 'good' bell states\n",
    "                    if qudit_systems[0] == tuple(range(d)):\n",
    "                        good_success_prob += prob"
   ]
  },
  {
   "cell_type": "code",
   "execution_count": 17,
   "metadata": {},
   "outputs": [
    {
     "data": {
      "text/plain": [
       "0.021947873799725626"
      ]
     },
     "execution_count": 17,
     "metadata": {},
     "output_type": "execute_result"
    }
   ],
   "source": [
    "success_prob"
   ]
  },
  {
   "cell_type": "code",
   "execution_count": 18,
   "metadata": {},
   "outputs": [
    {
     "data": {
      "text/plain": [
       "0.021947873799725626"
      ]
     },
     "execution_count": 18,
     "metadata": {},
     "output_type": "execute_result"
    }
   ],
   "source": [
    "good_success_prob"
   ]
  },
  {
   "cell_type": "code",
   "execution_count": null,
   "metadata": {},
   "outputs": [],
   "source": []
  }
 ],
 "metadata": {
  "kernelspec": {
   "display_name": "Python 3",
   "language": "python",
   "name": "python3"
  },
  "language_info": {
   "codemirror_mode": {
    "name": "ipython",
    "version": 3
   },
   "file_extension": ".py",
   "mimetype": "text/x-python",
   "name": "python",
   "nbconvert_exporter": "python",
   "pygments_lexer": "ipython3",
   "version": "3.7.3"
  }
 },
 "nbformat": 4,
 "nbformat_minor": 4
}
